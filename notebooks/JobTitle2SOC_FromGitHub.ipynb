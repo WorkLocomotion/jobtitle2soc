{
  "nbformat": 4,
  "nbformat_minor": 5,
  "metadata": {
    "colab": {
      "name": "JobTitle2SOC_FromGitHub.ipynb",
      "provenance": []
    },
    "kernelspec": {
      "name": "python3",
      "display_name": "Python 3"
    }
  },
  "cells": [
    {
      "cell_type": "markdown",
      "metadata": {
        "id": "intro"
      },
      "source": [
        "# JobTitle2SOC — Zero‑GitHub‑Interaction Notebook\n",
        "This notebook fetches code + reference data from a **public GitHub ZIP** (no sign‑in),\n",
        "lets the user upload their Excel, runs the mapper, and triggers a direct download of the result.\n",
        "\n",
        "**Owner (you) must set the ZIP URL and repo folder name once before sharing** so HR never touches GitHub.\n"
      ]
    },
    {
      "cell_type": "code",
      "metadata": {
        "id": "install"
      },
      "source": [
        "# Step 1 — Install dependencies (run once per session)\n",
        "!pip -q install pandas openpyxl rapidfuzz scikit-learn xlsxwriter tqdm\n"
      ],
      "execution_count": null,
      "outputs": []
    },
    {
      "cell_type": "code",
      "metadata": {
        "id": "config"
      },
      "source": [
        "# OWNER-ONLY: Set these two values, then share the notebook with HR.\n",
        "# Example ZIP URL form: https://github.com/<you>/<repo>/archive/refs/heads/main.zip\n",
        "REPO_ZIP_URL = 'https://github.com/<you>/<repo>/archive/refs/heads/main.zip'  # <-- CHANGE THIS\n",
        "REPO_DIR_HINT = '<repo>-main'  # folder name after unzip (usually '<repo>-<branch>')  # <-- CHANGE THIS\n",
        "\n",
        "assert '<you>' not in REPO_ZIP_URL and '<repo>' not in REPO_ZIP_URL, (\n",
        "    'Set REPO_ZIP_URL to your public repo ZIP before sharing with HR.'\n",
        ")\n",
        "assert '<repo>' not in REPO_DIR_HINT, (\n",
        "    'Set REPO_DIR_HINT (unzipped folder name) before sharing.'\n",
        ")\n"
      ],
      "execution_count": null,
      "outputs": []
    },
    {
      "cell_type": "code",
      "metadata": {
        "id": "fetch_zip"
      },
      "source": [
        "# Step 2 — Fetch and extract the public GitHub ZIP (no GitHub login required)\n",
        "import os, zipfile, io, requests\n",
        "r = requests.get(REPO_ZIP_URL)\n",
        "r.raise_for_status()\n",
        "z = zipfile.ZipFile(io.BytesIO(r.content))\n",
        "z.extractall('/content')\n",
        "\n",
        "import pathlib\n",
        "base_candidates = [p for p in pathlib.Path('/content').iterdir() if p.is_dir() and p.name == REPO_DIR_HINT]\n",
        "if not base_candidates:\n",
        "    # Fallback: try to auto-detect the first directory created by ZIP\n",
        "    base_candidates = [p for p in pathlib.Path('/content').iterdir() if p.is_dir() and '-' in p.name]\n",
        "BASE = base_candidates[0] if base_candidates else pathlib.Path('/content')\n",
        "print('Using repo folder:', BASE)\n",
        "os.chdir(BASE)\n",
        "!pwd && ls -la\n"
      ],
      "execution_count": null,
      "outputs": []
    },
    {
      "cell_type": "code",
      "metadata": {
        "id": "verify_paths"
      },
      "source": [
        "# Step 3 — Verify expected project layout\n",
        "from pathlib import Path\n",
        "CODE = Path('code')/'map_titles_to_soc.py'\n",
        "OCC  = Path('data')/'Occupation Data.xlsx'\n",
        "ALT  = Path('data')/'Alternate Titles.xlsx'\n",
        "\n",
        "for label, p in [('CODE', CODE), ('OCC', OCC), ('ALT', ALT)]:\n",
        "    print(f\"{label}: {p.resolve()}  ->  {'OK' if p.exists() else 'MISSING'}\")\n",
        "\n",
        "if not (CODE.exists() and OCC.exists() and ALT.exists()):\n",
        "    raise FileNotFoundError('Expected files not found. Ensure the repo has code/map_titles_to_soc.py and data/*.xlsx')\n"
      ],
      "execution_count": null,
      "outputs": []
    },
    {
      "cell_type": "code",
      "metadata": {
        "id": "upload_input"
      },
      "source": [
        "# Step 4 — Upload the *input* Excel from your computer (HR does NOT need GitHub)\n",
        "from google.colab import files\n",
        "from pathlib import Path\n",
        "up = files.upload()  # choose your Company Job Titles.xlsx (any name is fine)\n",
        "INP = Path(next(iter(up)))\n",
        "print('Using input:', INP.resolve())\n"
      ],
      "execution_count": null,
      "outputs": []
    },
    {
      "cell_type": "code",
      "metadata": {
        "id": "run"
      },
      "source": [
        "# Step 5 — Run the mapping script and save output to /content, named after the input\n",
        "import subprocess, sys\n",
        "OUT = Path('/content') / f\"{INP.stem} - Mapped.xlsx\"\n",
        "cmd = [sys.executable, str(CODE),\n",
        "       '--input', str(INP),\n",
        "       '--occ',   str(OCC),\n",
        "       '--alt',   str(ALT),\n",
        "       '--out',   str(OUT)]\n",
        "print('Running:\\n', ' '.join(cmd))\n",
        "subprocess.run(cmd, check=True)\n",
        "print('\\nSaved:', OUT)\n"
      ],
      "execution_count": null,
      "outputs": []
    },
    {
      "cell_type": "code",
      "metadata": {
        "id": "download"
      },
      "source": [
        "# Step 6 — Download the result to your computer\n",
        "from google.colab import files\n",
        "files.download(str(OUT))\n"
      ],
      "execution_count": null,
      "outputs": []
    }
  ]
}